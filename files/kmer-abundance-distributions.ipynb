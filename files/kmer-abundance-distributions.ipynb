{
 "cells": [
  {
   "cell_type": "markdown",
   "metadata": {},
   "source": [
    "Quick tips --\n",
    "\n",
    "* Shift-ENTER to execute cell and move to next\n",
    "* Edit etc. cells whenever you want using mouse etc\n",
    "* Use menu (Cell... Run All...) to rerun the whole thing"
   ]
  },
  {
   "cell_type": "code",
   "execution_count": 1,
   "metadata": {},
   "outputs": [
    {
     "name": "stdout",
     "output_type": "stream",
     "text": [
      "Populating the interactive namespace from numpy and matplotlib\n"
     ]
    }
   ],
   "source": [
    "%pylab inline"
   ]
  },
  {
   "cell_type": "code",
   "execution_count": 2,
   "metadata": {},
   "outputs": [
    {
     "name": "stdout",
     "output_type": "stream",
     "text": [
      "/mnt\n"
     ]
    }
   ],
   "source": [
    "cd /mnt"
   ]
  },
  {
   "cell_type": "code",
   "execution_count": 3,
   "metadata": {},
   "outputs": [
    {
     "name": "stdout",
     "output_type": "stream",
     "text": [
      "Cloning into 'kmers'...\n",
      "remote: Counting objects: 118, done.\u001b[K\n",
      "remote: Total 118 (delta 0), reused 0 (delta 0), pack-reused 118\u001b[K\n",
      "Receiving objects: 100% (118/118), 99.14 KiB | 0 bytes/s, done.\n",
      "Resolving deltas: 100% (63/63), done.\n",
      "Checking connectivity... done.\n"
     ]
    }
   ],
   "source": [
    "# check out simulation code for making genomes and reads\n",
    "!git clone https://github.com/dib-lab/nullgraph.git kmers"
   ]
  },
  {
   "cell_type": "code",
   "execution_count": 4,
   "metadata": {},
   "outputs": [
    {
     "name": "stdout",
     "output_type": "stream",
     "text": [
      "/mnt/kmers\n"
     ]
    }
   ],
   "source": [
    "cd kmers"
   ]
  },
  {
   "cell_type": "code",
   "execution_count": 5,
   "metadata": {},
   "outputs": [
    {
     "name": "stdout",
     "output_type": "stream",
     "text": [
      "dens.ipynb              make-random-genome-with-repeats.py  \u001b[0m\u001b[01;32mmake-repeats.py\u001b[0m*\r\n",
      "fasta.py                make-random-transcriptome.py        \u001b[01;32mmix-into-genome.py\u001b[0m*\r\n",
      "\u001b[01;32mmake-biased-reads.py\u001b[0m*   make-reads-biased-nonrandom.py      README.rst\r\n",
      "Makefile                make-reads-biased-random.py\r\n",
      "\u001b[01;32mmake-random-genome.py\u001b[0m*  \u001b[01;32mmake-reads.py\u001b[0m*\r\n"
     ]
    }
   ],
   "source": [
    "ls"
   ]
  },
  {
   "cell_type": "code",
   "execution_count": 6,
   "metadata": {},
   "outputs": [
    {
     "name": "stdout",
     "output_type": "stream",
     "text": [
      "Using random seed: 1\r\n"
     ]
    }
   ],
   "source": [
    "# build a random genome (1kb) with equal mixes of A/C/G/T\n",
    "!python make-random-genome.py -l 10000 > genome.fa"
   ]
  },
  {
   "cell_type": "code",
   "execution_count": 7,
   "metadata": {},
   "outputs": [
    {
     "name": "stdout",
     "output_type": "stream",
     "text": [
      "genome size: 10000\n",
      "coverage: 100.0\n",
      "readlen: 100\n",
      "error rate: 0.0\n",
      "Read in template genome genome of length 10000 from genome.fa\n",
      "Generating 10000 reads of length 100 for a target coverage of 100.0 with a target error rate of 0.0\n",
      "0 of 10000 reads mutated; 0 total mutations\n",
      ">read0r start=2201,mutations=0\n",
      "GACGTTCGTACAAGTCAGCACCAATGTGTTCTTTGAGTGTCAGGCATGCCGCCAGTGGTGGCGTAACCGAAGTGGGCGGCAGGACGAAAATGGTCCCTCT\n",
      ">read1r start=4179,mutations=0\n",
      "GACGTGGGTCAGACGACGACTGGACACATCTAATGTATAGGTGAGCATGGATAATTGTGAAGATTCGCGAGACTACTGGTTCGCAGCCTCATGACCATCA\n",
      ">read2f start=8117,mutations=0\n",
      "CCAGCCCTTCACATTTATAGACTAAGGTAAGGCCATCCCCCTCAGGAATGTACGAGCGCTGAAGTATAAGTGTTCTGCCTTCCTTCATATCTAAAAGAAG\n",
      ">read3f start=7737,mutations=0\n",
      "GACAAGCTGTCGTAATGGACTGTCCGCGTTATCTATAGCTGCTAGCTACGGAGTTGAAGCTTAGCGACTTGCCACAGGAAGCTGTTCTTGGGCTACTTTT\n",
      ">read4r start=3439,mutations=0\n",
      "TAGGGTACTCAACACCCATGCATTGGAGAGAGTTGTTTAACCGCATCCAGTTTAGGCAGCGGCAGACGTGCGCAAGACCACTGTTAGTTTAATGCTCACG\n"
     ]
    }
   ],
   "source": [
    "# make reads at 100x coverage, 0 error.\n",
    "!python make-reads.py --coverage 100 --read-length 100 --error-rate 0 genome.fa > reads-e000.fa\n",
    "!head reads-e000.fa"
   ]
  },
  {
   "cell_type": "code",
   "execution_count": 8,
   "metadata": {},
   "outputs": [
    {
     "name": "stdout",
     "output_type": "stream",
     "text": [
      "\n",
      "|| This is the script abundance-dist-single.py in khmer.\n",
      "|| You are running khmer version 2.1.1\n",
      "|| You are also using screed version 1.0\n",
      "||\n",
      "|| If you use this script in a publication, please cite EACH of the following:\n",
      "||\n",
      "||   * MR Crusoe et al., 2015. http://dx.doi.org/10.12688/f1000research.6924.1\n",
      "||   * Q Zhang et al., http://dx.doi.org/10.1371/journal.pone.0101271\n",
      "||   * A. Döring et al. http://dx.doi.org:80/10.1186/1471-2105-9-11\n",
      "||\n",
      "|| Please see http://khmer.readthedocs.io/en/latest/citations.html for details.\n",
      "\n",
      "\n",
      "PARAMETERS:\n",
      " - kmer size =     20 \t\t(-k)\n",
      " - n tables =      4 \t\t(-N)\n",
      " - max tablesize = 1e+08 \t(-x)\n",
      "Estimated memory usage is 0.4 Gb (4e+08 bytes = 4 bytes x 1e+08 entries / 1 entries per byte)\n",
      "--------\n",
      "making countgraph\n",
      "building k-mer tracking graph\n",
      "kmer_size: 20\n",
      "k-mer countgraph sizes: [99999989, 99999971, 99999959, 99999941]\n",
      "outputting to reads-k20-e000.dist\n",
      "consuming input, round 1 -- reads-e000.fa\n",
      "Total number of unique k-mers: 9980\n",
      "preparing hist from reads-e000.fa...\n",
      "consuming input, round 2 -- reads-e000.fa\n",
      "wrote to: reads-k20-e000.dist\n"
     ]
    }
   ],
   "source": [
    "# count all k-mers in the database and extract a k-mer distribution\n",
    "!abundance-dist-single.py -s -x 1e8 -k 20 reads-e000.fa reads-k20-e000.dist\n"
   ]
  },
  {
   "cell_type": "code",
   "execution_count": 9,
   "metadata": {},
   "outputs": [
    {
     "name": "stdout",
     "output_type": "stream",
     "text": [
      "abundance,count,cumulative,cumulative_fraction\r",
      "\r\n",
      "0,0,0,0.0\r",
      "\r\n",
      "1,2,2,0.0\r",
      "\r\n",
      "2,1,3,0.0\r",
      "\r\n",
      "3,1,4,0.0\r",
      "\r\n",
      "4,2,6,0.001\r",
      "\r\n",
      "5,3,9,0.001\r",
      "\r\n",
      "6,1,10,0.001\r",
      "\r\n",
      "7,5,15,0.002\r",
      "\r\n",
      "8,2,17,0.002\r",
      "\r\n"
     ]
    }
   ],
   "source": [
    "# in the dist file,\n",
    "#    column 1 is the k-mer count\n",
    "#    column 2 is the number of k-mers with that count\n",
    "#    column 3 is the number of k-mers with less than or equal to that count\n",
    "#    column 4 is the fraction of total k-mers with less than or equal to that count\n",
    "!head reads-k20-e000.dist\n"
   ]
  },
  {
   "cell_type": "code",
   "execution_count": 10,
   "metadata": {},
   "outputs": [],
   "source": [
    "# read in the numbers\n",
    "dist = numpy.loadtxt('reads-k20-e000.dist', delimiter=',', skiprows=1)"
   ]
  },
  {
   "cell_type": "code",
   "execution_count": 11,
   "metadata": {},
   "outputs": [
    {
     "data": {
      "text/plain": [
       "<matplotlib.text.Text at 0x7fea25c456d8>"
      ]
     },
     "execution_count": 11,
     "metadata": {},
     "output_type": "execute_result"
    },
    {
     "data": {
      "image/png": "[encoded data removed]",
      "text/plain": [
       "<matplotlib.figure.Figure at 0x7fea25ed85c0>"
      ]
     },
     "metadata": {},
     "output_type": "display_data"
    }
   ],
   "source": [
    "# plot the first two columns\n",
    "plot(dist[:,0], dist[:,1])\n",
    "xlabel('k-mer abundance')\n",
    "ylabel('# of k-mers with that abundance')"
   ]
  },
  {
   "cell_type": "code",
   "execution_count": 12,
   "metadata": {},
   "outputs": [
    {
     "name": "stdout",
     "output_type": "stream",
     "text": [
      "genome size: 10000\n",
      "coverage: 100.0\n",
      "readlen: 100\n",
      "error rate: 0.001\n",
      "Read in template genome genome of length 10000 from genome.fa\n",
      "Generating 10000 reads of length 100 for a target coverage of 100.0 with a target error rate of 0.001\n",
      "942 of 10000 reads mutated; 990 total mutations\n",
      "genome size: 10000\n",
      "coverage: 100.0\n",
      "readlen: 100\n",
      "error rate: 0.01\n",
      "Read in template genome genome of length 10000 from genome.fa\n",
      "Generating 10000 reads of length 100 for a target coverage of 100.0 with a target error rate of 0.01\n",
      "6311 of 10000 reads mutated; 9964 total mutations\n",
      "genome size: 10000\n",
      "coverage: 100.0\n",
      "readlen: 100\n",
      "error rate: 0.1\n",
      "Read in template genome genome of length 10000 from genome.fa\n",
      "Generating 10000 reads of length 100 for a target coverage of 100.0 with a target error rate of 0.1\n",
      "10000 of 10000 reads mutated; 111144 total mutations\n"
     ]
    }
   ],
   "source": [
    "# make more reads at different error rate\n",
    "!python make-reads.py --coverage 100 --read-length 100 --error-rate .001 genome.fa > reads-e001.fa\n",
    "!python make-reads.py --coverage 100 --read-length 100 --error-rate .01 genome.fa > reads-e010.fa\n",
    "!python make-reads.py --coverage 100 --read-length 100 --error-rate .1 genome.fa > reads-e100.fa\n"
   ]
  },
  {
   "cell_type": "code",
   "execution_count": 13,
   "metadata": {},
   "outputs": [
    {
     "name": "stdout",
     "output_type": "stream",
     "text": [
      "\n",
      "|| This is the script abundance-dist-single.py in khmer.\n",
      "|| You are running khmer version 2.1.1\n",
      "|| You are also using screed version 1.0\n",
      "||\n",
      "|| If you use this script in a publication, please cite EACH of the following:\n",
      "||\n",
      "||   * MR Crusoe et al., 2015. http://dx.doi.org/10.12688/f1000research.6924.1\n",
      "||   * Q Zhang et al., http://dx.doi.org/10.1371/journal.pone.0101271\n",
      "||   * A. Döring et al. http://dx.doi.org:80/10.1186/1471-2105-9-11\n",
      "||\n",
      "|| Please see http://khmer.readthedocs.io/en/latest/citations.html for details.\n",
      "\n",
      "\n",
      "PARAMETERS:\n",
      " - kmer size =     20 \t\t(-k)\n",
      " - n tables =      4 \t\t(-N)\n",
      " - max tablesize = 1e+08 \t(-x)\n",
      "Estimated memory usage is 0.4 Gb (4e+08 bytes = 4 bytes x 1e+08 entries / 1 entries per byte)\n",
      "--------\n",
      "making countgraph\n",
      "building k-mer tracking graph\n",
      "kmer_size: 20\n",
      "k-mer countgraph sizes: [99999989, 99999971, 99999959, 99999941]\n",
      "outputting to reads-k20-e001.dist\n",
      "consuming input, round 1 -- reads-e001.fa\n",
      "Total number of unique k-mers: 25882\n",
      "preparing hist from reads-e001.fa...\n",
      "consuming input, round 2 -- reads-e001.fa\n",
      "wrote to: reads-k20-e001.dist\n",
      "\n",
      "|| This is the script abundance-dist-single.py in khmer.\n",
      "|| You are running khmer version 2.1.1\n",
      "|| You are also using screed version 1.0\n",
      "||\n",
      "|| If you use this script in a publication, please cite EACH of the following:\n",
      "||\n",
      "||   * MR Crusoe et al., 2015. http://dx.doi.org/10.12688/f1000research.6924.1\n",
      "||   * Q Zhang et al., http://dx.doi.org/10.1371/journal.pone.0101271\n",
      "||   * A. Döring et al. http://dx.doi.org:80/10.1186/1471-2105-9-11\n",
      "||\n",
      "|| Please see http://khmer.readthedocs.io/en/latest/citations.html for details.\n",
      "\n",
      "\n",
      "PARAMETERS:\n",
      " - kmer size =     20 \t\t(-k)\n",
      " - n tables =      4 \t\t(-N)\n",
      " - max tablesize = 1e+08 \t(-x)\n",
      "Estimated memory usage is 0.4 Gb (4e+08 bytes = 4 bytes x 1e+08 entries / 1 entries per byte)\n",
      "--------\n",
      "making countgraph\n",
      "building k-mer tracking graph\n",
      "kmer_size: 20\n",
      "k-mer countgraph sizes: [99999989, 99999971, 99999959, 99999941]\n",
      "outputting to reads-k20-e010.dist\n",
      "consuming input, round 1 -- reads-e010.fa\n",
      "Total number of unique k-mers: 142654\n",
      "preparing hist from reads-e010.fa...\n",
      "consuming input, round 2 -- reads-e010.fa\n",
      "wrote to: reads-k20-e010.dist\n",
      "\n",
      "|| This is the script abundance-dist-single.py in khmer.\n",
      "|| You are running khmer version 2.1.1\n",
      "|| You are also using screed version 1.0\n",
      "||\n",
      "|| If you use this script in a publication, please cite EACH of the following:\n",
      "||\n",
      "||   * MR Crusoe et al., 2015. http://dx.doi.org/10.12688/f1000research.6924.1\n",
      "||   * Q Zhang et al., http://dx.doi.org/10.1371/journal.pone.0101271\n",
      "||   * A. Döring et al. http://dx.doi.org:80/10.1186/1471-2105-9-11\n",
      "||\n",
      "|| Please see http://khmer.readthedocs.io/en/latest/citations.html for details.\n",
      "\n",
      "\n",
      "PARAMETERS:\n",
      " - kmer size =     20 \t\t(-k)\n",
      " - n tables =      4 \t\t(-N)\n",
      " - max tablesize = 1e+08 \t(-x)\n",
      "Estimated memory usage is 0.4 Gb (4e+08 bytes = 4 bytes x 1e+08 entries / 1 entries per byte)\n",
      "--------\n",
      "making countgraph\n",
      "building k-mer tracking graph\n",
      "kmer_size: 20\n",
      "k-mer countgraph sizes: [99999989, 99999971, 99999959, 99999941]\n",
      "outputting to reads-k20-e100.dist\n",
      "consuming input, round 1 -- reads-e100.fa\n",
      "Total number of unique k-mers: 697296\n",
      "preparing hist from reads-e100.fa...\n",
      "consuming input, round 2 -- reads-e100.fa\n",
      "wrote to: reads-k20-e100.dist\n"
     ]
    }
   ],
   "source": [
    "!abundance-dist-single.py -s -x 1e8 -k 20 reads-e001.fa reads-k20-e001.dist\n",
    "!abundance-dist-single.py -s -x 1e8 -k 20 reads-e010.fa reads-k20-e010.dist\n",
    "!abundance-dist-single.py -s -x 1e8 -k 20 reads-e100.fa reads-k20-e100.dist"
   ]
  },
  {
   "cell_type": "code",
   "execution_count": 14,
   "metadata": {},
   "outputs": [],
   "source": [
    "# read in the numbers\n",
    "dist1 = numpy.loadtxt('reads-k20-e000.dist', delimiter=',', skiprows=1)\n",
    "dist2 = numpy.loadtxt('reads-k20-e001.dist', delimiter=',', skiprows=1)\n",
    "dist3 = numpy.loadtxt('reads-k20-e010.dist', delimiter=',', skiprows=1)\n",
    "dist4 = numpy.loadtxt('reads-k20-e100.dist', delimiter=',', skiprows=1)\n"
   ]
  },
  {
   "cell_type": "code",
   "execution_count": 15,
   "metadata": {},
   "outputs": [
    {
     "data": {
      "text/plain": [
       "<matplotlib.legend.Legend at 0x7fea23301c50>"
      ]
     },
     "execution_count": 15,
     "metadata": {},
     "output_type": "execute_result"
    },
    {
     "data": {
      "image/png": "[encoded data removed]",
      "text/plain": [
       "<matplotlib.figure.Figure at 0x7fea23385f28>"
      ]
     },
     "metadata": {},
     "output_type": "display_data"
    }
   ],
   "source": [
    "# errors produce a lot of low-abundance k-mers, distorting y axis\n",
    "plot(dist1[:,0], dist1[:,1], label='0')\n",
    "plot(dist2[:,0], dist2[:,1], label='.001')\n",
    "plot(dist3[:,0], dist3[:,1], label='.01')\n",
    "plot(dist4[:,0], dist4[:,1], label='.1')\n",
    "\n",
    "xlabel('k-mer abundance')\n",
    "ylabel('# of k-mers with that abundance')\n",
    "legend()"
   ]
  },
  {
   "cell_type": "code",
   "execution_count": 16,
   "metadata": {},
   "outputs": [
    {
     "data": {
      "text/plain": [
       "<matplotlib.legend.Legend at 0x7fea2321cac8>"
      ]
     },
     "execution_count": 16,
     "metadata": {},
     "output_type": "execute_result"
    },
    {
     "data": {
      "image/png": "[encoded data removed]",
      "text/plain": [
       "<matplotlib.figure.Figure at 0x7fea232999e8>"
      ]
     },
     "metadata": {},
     "output_type": "display_data"
    }
   ],
   "source": [
    "# so zoom in...\n",
    "plot(dist1[:,0], dist1[:,1], label='0')\n",
    "plot(dist2[:,0], dist2[:,1], label='.001')\n",
    "plot(dist3[:,0], dist3[:,1], label='.01')\n",
    "plot(dist4[:,0], dist4[:,1], label='.1')\n",
    "\n",
    "axis(ymin=0, ymax=1000)\n",
    "legend()"
   ]
  },
  {
   "cell_type": "code",
   "execution_count": 17,
   "metadata": {},
   "outputs": [
    {
     "name": "stdout",
     "output_type": "stream",
     "text": [
      "\n",
      "|| This is the script filter-abund-single.py in khmer.\n",
      "|| You are running khmer version 2.1.1\n",
      "|| You are also using screed version 1.0\n",
      "||\n",
      "|| If you use this script in a publication, please cite EACH of the following:\n",
      "||\n",
      "||   * MR Crusoe et al., 2015. http://dx.doi.org/10.12688/f1000research.6924.1\n",
      "||   * Q Zhang et al., http://dx.doi.org/10.1371/journal.pone.0101271\n",
      "||   * A. Döring et al. http://dx.doi.org:80/10.1186/1471-2105-9-11\n",
      "||\n",
      "|| Please see http://khmer.readthedocs.io/en/latest/citations.html for details.\n",
      "\n",
      "\n",
      "PARAMETERS:\n",
      " - kmer size =     20 \t\t(-k)\n",
      " - n tables =      4 \t\t(-N)\n",
      " - max tablesize = 1e+08 \t(-x)\n",
      "Estimated memory usage is 0.4 Gb (4e+08 bytes = 4 bytes x 1e+08 entries / 1 entries per byte)\n",
      "--------\n",
      "making countgraph\n",
      "consuming input, round 1 -- reads-e000.fa\n",
      "Total number of unique k-mers: 9980\n",
      "fp rate estimated to be 0.000\n",
      "filtering reads-e000.fa\n",
      "output in reads-e000.fa.abundfilt\n",
      "\n",
      "|| This is the script filter-abund-single.py in khmer.\n",
      "|| You are running khmer version 2.1.1\n",
      "|| You are also using screed version 1.0\n",
      "||\n",
      "|| If you use this script in a publication, please cite EACH of the following:\n",
      "||\n",
      "||   * MR Crusoe et al., 2015. http://dx.doi.org/10.12688/f1000research.6924.1\n",
      "||   * Q Zhang et al., http://dx.doi.org/10.1371/journal.pone.0101271\n",
      "||   * A. Döring et al. http://dx.doi.org:80/10.1186/1471-2105-9-11\n",
      "||\n",
      "|| Please see http://khmer.readthedocs.io/en/latest/citations.html for details.\n",
      "\n",
      "\n",
      "PARAMETERS:\n",
      " - kmer size =     20 \t\t(-k)\n",
      " - n tables =      4 \t\t(-N)\n",
      " - max tablesize = 1e+08 \t(-x)\n",
      "Estimated memory usage is 0.4 Gb (4e+08 bytes = 4 bytes x 1e+08 entries / 1 entries per byte)\n",
      "--------\n",
      "making countgraph\n",
      "consuming input, round 1 -- reads-e001.fa\n",
      "Total number of unique k-mers: 25882\n",
      "fp rate estimated to be 0.000\n",
      "filtering reads-e001.fa\n",
      "output in reads-e001.fa.abundfilt\n",
      "\n",
      "|| This is the script filter-abund-single.py in khmer.\n",
      "|| You are running khmer version 2.1.1\n",
      "|| You are also using screed version 1.0\n",
      "||\n",
      "|| If you use this script in a publication, please cite EACH of the following:\n",
      "||\n",
      "||   * MR Crusoe et al., 2015. http://dx.doi.org/10.12688/f1000research.6924.1\n",
      "||   * Q Zhang et al., http://dx.doi.org/10.1371/journal.pone.0101271\n",
      "||   * A. Döring et al. http://dx.doi.org:80/10.1186/1471-2105-9-11\n",
      "||\n",
      "|| Please see http://khmer.readthedocs.io/en/latest/citations.html for details.\n",
      "\n",
      "\n",
      "PARAMETERS:\n",
      " - kmer size =     20 \t\t(-k)\n",
      " - n tables =      4 \t\t(-N)\n",
      " - max tablesize = 1e+08 \t(-x)\n",
      "Estimated memory usage is 0.4 Gb (4e+08 bytes = 4 bytes x 1e+08 entries / 1 entries per byte)\n",
      "--------\n",
      "making countgraph\n",
      "consuming input, round 1 -- reads-e010.fa\n",
      "Total number of unique k-mers: 142654\n",
      "fp rate estimated to be 0.000\n",
      "filtering reads-e010.fa\n",
      "output in reads-e010.fa.abundfilt\n",
      "\n",
      "|| This is the script filter-abund-single.py in khmer.\n",
      "|| You are running khmer version 2.1.1\n",
      "|| You are also using screed version 1.0\n",
      "||\n",
      "|| If you use this script in a publication, please cite EACH of the following:\n",
      "||\n",
      "||   * MR Crusoe et al., 2015. http://dx.doi.org/10.12688/f1000research.6924.1\n",
      "||   * Q Zhang et al., http://dx.doi.org/10.1371/journal.pone.0101271\n",
      "||   * A. Döring et al. http://dx.doi.org:80/10.1186/1471-2105-9-11\n",
      "||\n",
      "|| Please see http://khmer.readthedocs.io/en/latest/citations.html for details.\n",
      "\n",
      "\n",
      "PARAMETERS:\n",
      " - kmer size =     20 \t\t(-k)\n",
      " - n tables =      4 \t\t(-N)\n",
      " - max tablesize = 1e+08 \t(-x)\n",
      "Estimated memory usage is 0.4 Gb (4e+08 bytes = 4 bytes x 1e+08 entries / 1 entries per byte)\n",
      "--------\n",
      "making countgraph\n",
      "consuming input, round 1 -- reads-e100.fa\n",
      "Total number of unique k-mers: 697296\n",
      "fp rate estimated to be 0.000\n",
      "filtering reads-e100.fa\n",
      "output in reads-e100.fa.abundfilt\n"
     ]
    }
   ],
   "source": [
    "# what happens if we trim out all the unique k-mers? => reads.fa.abundfilt\n",
    "!filter-abund-single.py -C 2 -k 20 -x 1e8 reads-e000.fa > /dev/null\n",
    "!filter-abund-single.py -C 2 -k 20 -x 1e8 reads-e001.fa > /dev/null\n",
    "!filter-abund-single.py -C 2 -k 20 -x 1e8 reads-e010.fa > /dev/null\n",
    "!filter-abund-single.py -C 2 -k 20 -x 1e8 reads-e100.fa > /dev/null"
   ]
  },
  {
   "cell_type": "code",
   "execution_count": 18,
   "metadata": {},
   "outputs": [
    {
     "name": "stdout",
     "output_type": "stream",
     "text": [
      "\n",
      "|| This is the script abundance-dist-single.py in khmer.\n",
      "|| You are running khmer version 2.1.1\n",
      "|| You are also using screed version 1.0\n",
      "||\n",
      "|| If you use this script in a publication, please cite EACH of the following:\n",
      "||\n",
      "||   * MR Crusoe et al., 2015. http://dx.doi.org/10.12688/f1000research.6924.1\n",
      "||   * Q Zhang et al., http://dx.doi.org/10.1371/journal.pone.0101271\n",
      "||   * A. Döring et al. http://dx.doi.org:80/10.1186/1471-2105-9-11\n",
      "||\n",
      "|| Please see http://khmer.readthedocs.io/en/latest/citations.html for details.\n",
      "\n",
      "\n",
      "PARAMETERS:\n",
      " - kmer size =     20 \t\t(-k)\n",
      " - n tables =      4 \t\t(-N)\n",
      " - max tablesize = 1e+08 \t(-x)\n",
      "Estimated memory usage is 0.4 Gb (4e+08 bytes = 4 bytes x 1e+08 entries / 1 entries per byte)\n",
      "--------\n",
      "making countgraph\n",
      "building k-mer tracking graph\n",
      "kmer_size: 20\n",
      "k-mer countgraph sizes: [99999989, 99999971, 99999959, 99999941]\n",
      "outputting to reads-k20-e000-filt.dist\n",
      "consuming input, round 1 -- reads-e000.fa.abundfilt\n",
      "Total number of unique k-mers: 9978\n",
      "preparing hist from reads-e000.fa.abundfilt...\n",
      "consuming input, round 2 -- reads-e000.fa.abundfilt\n",
      "wrote to: reads-k20-e000-filt.dist\n",
      "\n",
      "|| This is the script abundance-dist-single.py in khmer.\n",
      "|| You are running khmer version 2.1.1\n",
      "|| You are also using screed version 1.0\n",
      "||\n",
      "|| If you use this script in a publication, please cite EACH of the following:\n",
      "||\n",
      "||   * MR Crusoe et al., 2015. http://dx.doi.org/10.12688/f1000research.6924.1\n",
      "||   * Q Zhang et al., http://dx.doi.org/10.1371/journal.pone.0101271\n",
      "||   * A. Döring et al. http://dx.doi.org:80/10.1186/1471-2105-9-11\n",
      "||\n",
      "|| Please see http://khmer.readthedocs.io/en/latest/citations.html for details.\n",
      "\n",
      "\n",
      "PARAMETERS:\n",
      " - kmer size =     20 \t\t(-k)\n",
      " - n tables =      4 \t\t(-N)\n",
      " - max tablesize = 1e+08 \t(-x)\n",
      "Estimated memory usage is 0.4 Gb (4e+08 bytes = 4 bytes x 1e+08 entries / 1 entries per byte)\n",
      "--------\n",
      "making countgraph\n",
      "building k-mer tracking graph\n",
      "kmer_size: 20\n",
      "k-mer countgraph sizes: [99999989, 99999971, 99999959, 99999941]\n",
      "outputting to reads-k20-e001-filt.dist\n",
      "consuming input, round 1 -- reads-e001.fa.abundfilt\n",
      "Total number of unique k-mers: 10084\n",
      "preparing hist from reads-e001.fa.abundfilt...\n",
      "consuming input, round 2 -- reads-e001.fa.abundfilt\n",
      "wrote to: reads-k20-e001-filt.dist\n",
      "\n",
      "|| This is the script abundance-dist-single.py in khmer.\n",
      "|| You are running khmer version 2.1.1\n",
      "|| You are also using screed version 1.0\n",
      "||\n",
      "|| If you use this script in a publication, please cite EACH of the following:\n",
      "||\n",
      "||   * MR Crusoe et al., 2015. http://dx.doi.org/10.12688/f1000research.6924.1\n",
      "||   * Q Zhang et al., http://dx.doi.org/10.1371/journal.pone.0101271\n",
      "||   * A. Döring et al. http://dx.doi.org:80/10.1186/1471-2105-9-11\n",
      "||\n",
      "|| Please see http://khmer.readthedocs.io/en/latest/citations.html for details.\n",
      "\n",
      "\n",
      "PARAMETERS:\n",
      " - kmer size =     20 \t\t(-k)\n",
      " - n tables =      4 \t\t(-N)\n",
      " - max tablesize = 1e+08 \t(-x)\n",
      "Estimated memory usage is 0.4 Gb (4e+08 bytes = 4 bytes x 1e+08 entries / 1 entries per byte)\n",
      "--------\n",
      "making countgraph\n",
      "building k-mer tracking graph\n",
      "kmer_size: 20\n",
      "k-mer countgraph sizes: [99999989, 99999971, 99999959, 99999941]\n",
      "outputting to reads-k20-e010-filt.dist\n",
      "consuming input, round 1 -- reads-e010.fa.abundfilt\n",
      "Total number of unique k-mers: 20591\n",
      "preparing hist from reads-e010.fa.abundfilt...\n",
      "consuming input, round 2 -- reads-e010.fa.abundfilt\n",
      "wrote to: reads-k20-e010-filt.dist\n",
      "\n",
      "|| This is the script abundance-dist-single.py in khmer.\n",
      "|| You are running khmer version 2.1.1\n",
      "|| You are also using screed version 1.0\n",
      "||\n",
      "|| If you use this script in a publication, please cite EACH of the following:\n",
      "||\n",
      "||   * MR Crusoe et al., 2015. http://dx.doi.org/10.12688/f1000research.6924.1\n",
      "||   * Q Zhang et al., http://dx.doi.org/10.1371/journal.pone.0101271\n",
      "||   * A. Döring et al. http://dx.doi.org:80/10.1186/1471-2105-9-11\n",
      "||\n",
      "|| Please see http://khmer.readthedocs.io/en/latest/citations.html for details.\n",
      "\n",
      "\n",
      "PARAMETERS:\n",
      " - kmer size =     20 \t\t(-k)\n",
      " - n tables =      4 \t\t(-N)\n",
      " - max tablesize = 1e+08 \t(-x)\n",
      "Estimated memory usage is 0.4 Gb (4e+08 bytes = 4 bytes x 1e+08 entries / 1 entries per byte)\n",
      "--------\n",
      "making countgraph\n",
      "building k-mer tracking graph\n",
      "kmer_size: 20\n",
      "k-mer countgraph sizes: [99999989, 99999971, 99999959, 99999941]\n",
      "outputting to reads-k20-e100-filt.dist\n",
      "consuming input, round 1 -- reads-e100.fa.abundfilt\n",
      "Total number of unique k-mers: 12392\n",
      "preparing hist from reads-e100.fa.abundfilt...\n",
      "consuming input, round 2 -- reads-e100.fa.abundfilt\n",
      "wrote to: reads-k20-e100-filt.dist\n"
     ]
    }
   ],
   "source": [
    "!abundance-dist-single.py -s -x 1e8 -k 20 reads-e000.fa.abundfilt reads-k20-e000-filt.dist\n",
    "!abundance-dist-single.py -s -x 1e8 -k 20 reads-e001.fa.abundfilt reads-k20-e001-filt.dist\n",
    "!abundance-dist-single.py -s -x 1e8 -k 20 reads-e010.fa.abundfilt reads-k20-e010-filt.dist\n",
    "!abundance-dist-single.py -s -x 1e8 -k 20 reads-e100.fa.abundfilt reads-k20-e100-filt.dist"
   ]
  },
  {
   "cell_type": "code",
   "execution_count": 19,
   "metadata": {},
   "outputs": [],
   "source": [
    "# read in the numbers\n",
    "fdist1 = numpy.loadtxt('reads-k20-e000-filt.dist', delimiter=',', skiprows=1)\n",
    "fdist2 = numpy.loadtxt('reads-k20-e001-filt.dist', delimiter=',', skiprows=1)\n",
    "fdist3 = numpy.loadtxt('reads-k20-e010-filt.dist', delimiter=',', skiprows=1)\n",
    "fdist4 = numpy.loadtxt('reads-k20-e100-filt.dist', delimiter=',', skiprows=1)\n"
   ]
  },
  {
   "cell_type": "code",
   "execution_count": 20,
   "metadata": {},
   "outputs": [
    {
     "data": {
      "text/plain": [
       "<matplotlib.legend.Legend at 0x7fea23199e10>"
      ]
     },
     "execution_count": 20,
     "metadata": {},
     "output_type": "execute_result"
    },
    {
     "data": {
      "image/png": "[encoded data removed]",
      "text/plain": [
       "<matplotlib.figure.Figure at 0x7fea25ed8550>"
      ]
     },
     "metadata": {},
     "output_type": "display_data"
    }
   ],
   "source": [
    "plot(dist3[:,0], dist3[:,1], label='.01 unfilt')\n",
    "plot(fdist3[:,0], fdist3[:,1], label='.01 filt')\n",
    "axis(ymin=0, ymax=1000)\n",
    "legend()"
   ]
  },
  {
   "cell_type": "markdown",
   "metadata": {},
   "source": [
    "## question:\n",
    "\n",
    "Why is the green abundance distribution shifted left?? didn't we just eliminate abundance-1 k-mers?"
   ]
  },
  {
   "cell_type": "code",
   "execution_count": 21,
   "metadata": {},
   "outputs": [],
   "source": [
    "## DIGRESSION - back to presentation to talk about digital normalization"
   ]
  },
  {
   "cell_type": "code",
   "execution_count": 22,
   "metadata": {},
   "outputs": [
    {
     "name": "stdout",
     "output_type": "stream",
     "text": [
      "\n",
      "|| This is the script normalize-by-median.py in khmer.\n",
      "|| You are running khmer version 2.1.1\n",
      "|| You are also using screed version 1.0\n",
      "||\n",
      "|| If you use this script in a publication, please cite EACH of the following:\n",
      "||\n",
      "||   * MR Crusoe et al., 2015. http://dx.doi.org/10.12688/f1000research.6924.1\n",
      "||   * CT Brown et al., arXiv:1203.4802 [q-bio.GN]\n",
      "||\n",
      "|| Please see http://khmer.readthedocs.io/en/latest/citations.html for details.\n",
      "\n",
      "\n",
      "PARAMETERS:\n",
      " - kmer size =     20 \t\t(-k)\n",
      " - n tables =      4 \t\t(-N)\n",
      " - max tablesize = 2e+08 \t(-x)\n",
      "Estimated memory usage is 0.8 Gb (8e+08 bytes = 4 bytes x 2e+08 entries / 1 entries per byte)\n",
      "--------\n",
      "making countgraph\n",
      "DONE with reads-e010.fa; kept 3872 of 10000 or 38.7%\n",
      "output in reads-e010.fa.keep\n",
      "Total number of unique k-mers: 83353\n",
      "fp rate estimated to be 0.000\n"
     ]
    }
   ],
   "source": [
    "# run digital normalization\n",
    "!normalize-by-median.py -x 2e8 -N 4 -k 20 -C 20 reads-e010.fa"
   ]
  },
  {
   "cell_type": "code",
   "execution_count": 23,
   "metadata": {},
   "outputs": [
    {
     "name": "stdout",
     "output_type": "stream",
     "text": [
      "\n",
      "|| This is the script abundance-dist-single.py in khmer.\n",
      "|| You are running khmer version 2.1.1\n",
      "|| You are also using screed version 1.0\n",
      "||\n",
      "|| If you use this script in a publication, please cite EACH of the following:\n",
      "||\n",
      "||   * MR Crusoe et al., 2015. http://dx.doi.org/10.12688/f1000research.6924.1\n",
      "||   * Q Zhang et al., http://dx.doi.org/10.1371/journal.pone.0101271\n",
      "||   * A. Döring et al. http://dx.doi.org:80/10.1186/1471-2105-9-11\n",
      "||\n",
      "|| Please see http://khmer.readthedocs.io/en/latest/citations.html for details.\n",
      "\n",
      "\n",
      "PARAMETERS:\n",
      " - kmer size =     20 \t\t(-k)\n",
      " - n tables =      4 \t\t(-N)\n",
      " - max tablesize = 1e+08 \t(-x)\n",
      "Estimated memory usage is 0.4 Gb (4e+08 bytes = 4 bytes x 1e+08 entries / 1 entries per byte)\n",
      "--------\n",
      "making countgraph\n",
      "building k-mer tracking graph\n",
      "kmer_size: 20\n",
      "k-mer countgraph sizes: [99999989, 99999971, 99999959, 99999941]\n",
      "outputting to reads-e010-dn.dist\n",
      "consuming input, round 1 -- reads-e010.fa.keep\n",
      "Total number of unique k-mers: 83353\n",
      "preparing hist from reads-e010.fa.keep...\n",
      "consuming input, round 2 -- reads-e010.fa.keep\n",
      "wrote to: reads-e010-dn.dist\n"
     ]
    }
   ],
   "source": [
    "# let's look at the abundance distribution post-diginorm\n",
    "!abundance-dist-single.py -s -k 20 -x 1e8 reads-e010.fa.keep reads-e010-dn.dist"
   ]
  },
  {
   "cell_type": "code",
   "execution_count": 24,
   "metadata": {},
   "outputs": [],
   "source": [
    "dist3_dn = numpy.loadtxt('reads-e010-dn.dist', delimiter=',', skiprows=1)"
   ]
  },
  {
   "cell_type": "code",
   "execution_count": 25,
   "metadata": {},
   "outputs": [
    {
     "data": {
      "text/plain": [
       "<matplotlib.legend.Legend at 0x7fea23111f98>"
      ]
     },
     "execution_count": 25,
     "metadata": {},
     "output_type": "execute_result"
    },
    {
     "data": {
      "image/png": "[encoded data removed]",
      "text/plain": [
       "<matplotlib.figure.Figure at 0x7fea232c46a0>"
      ]
     },
     "metadata": {},
     "output_type": "display_data"
    }
   ],
   "source": [
    "plot(dist3[:,0], dist3[:,1], label='reads')\n",
    "plot(fdist3[:,0], fdist3[:,1], label='filtered')\n",
    "plot(dist3_dn[:,0], dist3_dn[:,1], label='DN')\n",
    "\n",
    "xlabel('k-mer abundance')\n",
    "ylabel('# of k-mers with that abundance')\n",
    "axis(ymin=0, ymax=1000)\n",
    "legend()"
   ]
  },
  {
   "cell_type": "markdown",
   "metadata": {},
   "source": [
    "### Note, after running digital normalization, you have a LOT less data:"
   ]
  },
  {
   "cell_type": "code",
   "execution_count": 26,
   "metadata": {},
   "outputs": [
    {
     "name": "stdout",
     "output_type": "stream",
     "text": [
      "-rw-rw-r-- 1 tx160085 tx160085 1347775 Jun 30 01:16 reads-e010.fa\r\n",
      "-rw-rw-r-- 1 tx160085 tx160085  956273 Jun 30 01:16 reads-e010.fa.abundfilt\r\n",
      "-rw-rw-r-- 1 tx160085 tx160085  521160 Jun 30 01:16 reads-e010.fa.keep\r\n"
     ]
    }
   ],
   "source": [
    "!ls -la *e010*fa*"
   ]
  },
  {
   "cell_type": "code",
   "execution_count": null,
   "metadata": {},
   "outputs": [],
   "source": []
  }
 ],
 "metadata": {
  "kernelspec": {
   "display_name": "Python 3",
   "language": "python",
   "name": "python3"
  },
  "language_info": {
   "codemirror_mode": {
    "name": "ipython",
    "version": 3
   },
   "file_extension": ".py",
   "mimetype": "text/x-python",
   "name": "python",
   "nbconvert_exporter": "python",
   "pygments_lexer": "ipython3",
   "version": "3.5.2"
  }
 },
 "nbformat": 4,
 "nbformat_minor": 1
}
